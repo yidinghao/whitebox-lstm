{
 "cells": [
  {
   "cell_type": "markdown",
   "metadata": {},
   "source": [
    "# Generating White-Box Heatmaps\n",
    "\n",
    "This notebook illustrates how to generate the heatmaps appearing in the paper.\n",
    "\n",
    "You will need to import a white-box network, an attribution method, and the function `html_heatmap`."
   ]
  },
  {
   "cell_type": "code",
   "execution_count": 1,
   "metadata": {},
   "outputs": [],
   "source": [
    "from models.whitebox import CounterRNN\n",
    "from attribution import IGAttribution, LRPAttribution\n",
    "from attribution.src.heatmap import html_heatmap\n",
    "from IPython.core.display import display, HTML"
   ]
  },
  {
   "cell_type": "markdown",
   "metadata": {},
   "source": [
    "Attribution scores are produced using attribution objects, which are initialized with a model."
   ]
  },
  {
   "cell_type": "code",
   "execution_count": 2,
   "metadata": {},
   "outputs": [],
   "source": [
    "model = CounterRNN()\n",
    "ig = IGAttribution(model)\n",
    "lrp = LRPAttribution(model)"
   ]
  },
  {
   "cell_type": "markdown",
   "metadata": {},
   "source": [
    "You can compute attribution scores by directly calling the attribution object on a string. Use `html_heatmap` to generate a heatmap."
   ]
  },
  {
   "cell_type": "code",
   "execution_count": 3,
   "metadata": {},
   "outputs": [
    {
     "data": {
      "text/html": [
       "<span style=\"color:#b30326;font-weight:bold;background-color: #ffffff\"> a </span> <span style=\"color:#b30326;font-weight:bold;background-color: #ffffff\"> a </span> <span style=\"color:#b30326;font-weight:bold;background-color: #ffffff\"> a </span> <span style=\"color:#3a4cc0;font-weight:bold;background-color: #ffffff\"> b </span> <span style=\"color:#3a4cc0;font-weight:bold;background-color: #ffffff\"> b </span> "
      ],
      "text/plain": [
       "<IPython.core.display.HTML object>"
      ]
     },
     "metadata": {},
     "output_type": "display_data"
    },
    {
     "data": {
      "text/html": [
       "<span style=\"color:#b30326;font-weight:bold;background-color: #ffffff\"> a </span> <span style=\"color:#b30326;font-weight:bold;background-color: #ffffff\"> a </span> <span style=\"color:#b30326;font-weight:bold;background-color: #ffffff\"> a </span> <span style=\"color:#3a4cc0;font-weight:bold;background-color: #ffffff\"> b </span> <span style=\"color:#3a4cc0;font-weight:bold;background-color: #ffffff\"> b </span> "
      ],
      "text/plain": [
       "<IPython.core.display.HTML object>"
      ]
     },
     "metadata": {},
     "output_type": "display_data"
    }
   ],
   "source": [
    "ig_scores = ig(\"aaabb\")\n",
    "lrp_scores = lrp(\"aaabb\")\n",
    "\n",
    "display(HTML(html_heatmap(\"aaabb\", ig_scores)))\n",
    "display(HTML(html_heatmap(\"aaabb\", lrp_scores)))"
   ]
  },
  {
   "cell_type": "markdown",
   "metadata": {},
   "source": [
    "You can specify a target class using the `target` keyword argument."
   ]
  },
  {
   "cell_type": "code",
   "execution_count": 4,
   "metadata": {},
   "outputs": [
    {
     "data": {
      "text/html": [
       "<span style=\"color:#b30326;font-weight:bold;background-color: #ffffff\"> a </span> <span style=\"color:#b30326;font-weight:bold;background-color: #ffffff\"> a </span> <span style=\"color:#b30326;font-weight:bold;background-color: #ffffff\"> a </span> <span style=\"color:#3a4cc0;font-weight:bold;background-color: #ffffff\"> b </span> <span style=\"color:#3a4cc0;font-weight:bold;background-color: #ffffff\"> b </span> "
      ],
      "text/plain": [
       "<IPython.core.display.HTML object>"
      ]
     },
     "metadata": {},
     "output_type": "display_data"
    },
    {
     "data": {
      "text/html": [
       "<span style=\"color:#dddcdb;font-weight:bold;background-color: #ffffff\"> a </span> <span style=\"color:#dddcdb;font-weight:bold;background-color: #ffffff\"> a </span> <span style=\"color:#dddcdb;font-weight:bold;background-color: #ffffff\"> a </span> <span style=\"color:#dddcdb;font-weight:bold;background-color: #ffffff\"> b </span> <span style=\"color:#dddcdb;font-weight:bold;background-color: #ffffff\"> b </span> "
      ],
      "text/plain": [
       "<IPython.core.display.HTML object>"
      ]
     },
     "metadata": {},
     "output_type": "display_data"
    }
   ],
   "source": [
    "ig_scores = ig(\"aaabb\", target=3)\n",
    "lrp_scores = lrp(\"aaabb\", target=2)\n",
    "\n",
    "display(HTML(html_heatmap(\"aaabb\", ig_scores)))\n",
    "display(HTML(html_heatmap(\"aaabb\", lrp_scores)))"
   ]
  },
  {
   "cell_type": "markdown",
   "metadata": {},
   "source": [
    "Use `model.y_stoi` to see the output class indices and `model.x_stoi` to see the one-hot vector indices."
   ]
  },
  {
   "cell_type": "code",
   "execution_count": 5,
   "metadata": {},
   "outputs": [
    {
     "data": {
      "text/plain": [
       "defaultdict(<bound method Vocab._default_unk_index of <torchtext.vocab.Vocab object at 0x7fa526be5a60>>,\n",
       "            {'<unk>': 0, '<pad>': 1, 'False': 2, 'True': 3})"
      ]
     },
     "execution_count": 5,
     "metadata": {},
     "output_type": "execute_result"
    }
   ],
   "source": [
    "model.y_stoi"
   ]
  },
  {
   "cell_type": "markdown",
   "metadata": {},
   "source": [
    "Let's see another example."
   ]
  },
  {
   "cell_type": "code",
   "execution_count": 6,
   "metadata": {},
   "outputs": [],
   "source": [
    "from models.whitebox import BracketRNN"
   ]
  },
  {
   "cell_type": "code",
   "execution_count": 7,
   "metadata": {},
   "outputs": [],
   "source": [
    "bracket_model = BracketRNN(50)\n",
    "bracket_lrp = LRPAttribution(bracket_model)"
   ]
  },
  {
   "cell_type": "code",
   "execution_count": 8,
   "metadata": {},
   "outputs": [
    {
     "data": {
      "text/html": [
       "<span style=\"color:#b8cff8;font-weight:bold;background-color: #ffffff\"> [ </span> <span style=\"color:#8daffd;font-weight:bold;background-color: #ffffff\"> [ </span> <span style=\"color:#b30326;font-weight:bold;background-color: #ffffff\"> ( </span> <span style=\"color:#dddcdb;font-weight:bold;background-color: #ffffff\"> ( </span> <span style=\"color:#dddcdb;font-weight:bold;background-color: #ffffff\"> ) </span> "
      ],
      "text/plain": [
       "<IPython.core.display.HTML object>"
      ]
     },
     "metadata": {},
     "output_type": "display_data"
    }
   ],
   "source": [
    "lrp_scores = bracket_lrp(\"[[(()\")\n",
    "display(HTML(html_heatmap(\"[[(()\", lrp_scores)))"
   ]
  },
  {
   "cell_type": "code",
   "execution_count": null,
   "metadata": {},
   "outputs": [],
   "source": []
  }
 ],
 "metadata": {
  "kernelspec": {
   "display_name": "Python 3",
   "language": "python",
   "name": "python3"
  },
  "language_info": {
   "codemirror_mode": {
    "name": "ipython",
    "version": 3
   },
   "file_extension": ".py",
   "mimetype": "text/x-python",
   "name": "python",
   "nbconvert_exporter": "python",
   "pygments_lexer": "ipython3",
   "version": "3.8.3"
  }
 },
 "nbformat": 4,
 "nbformat_minor": 4
}
